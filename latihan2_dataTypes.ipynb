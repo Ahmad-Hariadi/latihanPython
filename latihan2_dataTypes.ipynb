{
 "cells": [
  {
   "cell_type": "code",
   "execution_count": 1,
   "metadata": {},
   "outputs": [
    {
     "name": "stdout",
     "output_type": "stream",
     "text": [
      "<class 'int'>\n",
      "<class 'float'>\n",
      "<class 'complex'>\n"
     ]
    }
   ],
   "source": [
    "#2.1 Number data type in python\n",
    "\n",
    "int_num = 5\n",
    "float_num = 5.0\n",
    "complex_num = 5 + 1j\n",
    "\n",
    "print(type(int_num))\n",
    "print(type(float_num))\n",
    "print(type(complex_num))"
   ]
  },
  {
   "cell_type": "code",
   "execution_count": 11,
   "metadata": {},
   "outputs": [
    {
     "name": "stdout",
     "output_type": "stream",
     "text": [
      "24.3\n",
      "1.8000000000000007\n",
      "32.0\n",
      "3.3333333333333335\n",
      "1\n",
      "3\n",
      "8\n"
     ]
    }
   ],
   "source": [
    "#2.1.1 Number Operations\n",
    "\n",
    "#addition\n",
    "a = 10 + 14.3\n",
    "print(a)\n",
    "\n",
    "#substraction\n",
    "b = 12 - 10.2\n",
    "print(b)\n",
    "\n",
    "#multiplication\n",
    "c = 10 * 3.2\n",
    "print(c)\n",
    "\n",
    "#division\n",
    "d = 10 / 3.0\n",
    "print(d)\n",
    "\n",
    "#modulus\n",
    "e = 19 % 2\n",
    "print(e)\n",
    "\n",
    "#flooring\n",
    "f = 10 // 3\n",
    "print(f)\n",
    "\n",
    "#exponent\n",
    "g = 2 ** 3\n",
    "print(g)"
   ]
  },
  {
   "cell_type": "code",
   "execution_count": 15,
   "metadata": {},
   "outputs": [
    {
     "name": "stdout",
     "output_type": "stream",
     "text": [
      "<class 'str'>\n",
      "<class 'str'>\n",
      "<class 'str'>\n"
     ]
    }
   ],
   "source": [
    "#2.2 String (str)\n",
    "\n",
    "#create a string\n",
    "s1 = 'this is string example 12'\n",
    "s2 = \"ahmad hariadi\"\n",
    "s3 = \"\"\"\n",
    "triple quotes allow us to\n",
    "create a multiple line string\n",
    "\"\"\"\n",
    "\n",
    "print(type(s1))\n",
    "print(type(s2))\n",
    "print(type(s3))"
   ]
  },
  {
   "cell_type": "code",
   "execution_count": 21,
   "metadata": {},
   "outputs": [
    {
     "name": "stdout",
     "output_type": "stream",
     "text": [
      "she said \"wow you're amazing\"\n",
      "i want to write \\ \n",
      "she said \"wow you're amazing\"\n",
      "string one\n",
      "string two\n"
     ]
    }
   ],
   "source": [
    "#2.2.1 Escape Sequence\n",
    "\n",
    "s = \"she said \\\"wow you\\'re amazing\\\"\"\n",
    "print(s)\n",
    "\n",
    "t = \"i want to write \\ \"\n",
    "print(t)\n",
    "\n",
    "v = \"i want to write \\\\ \"\n",
    "print(s)\n",
    "\n",
    "w = \"string one\\nstring two\"\n",
    "print(w)"
   ]
  },
  {
   "cell_type": "code",
   "execution_count": 22,
   "metadata": {},
   "outputs": [
    {
     "ename": "SyntaxError",
     "evalue": "(unicode error) 'unicodeescape' codec can't decode bytes in position 2-3: truncated \\UXXXXXXXX escape (3234046224.py, line 3)",
     "output_type": "error",
     "traceback": [
      "\u001b[1;36m  Cell \u001b[1;32mIn[22], line 3\u001b[1;36m\u001b[0m\n\u001b[1;33m    path= \"C:\\User\\Guest\\Documents\\thisisafile.py\"\u001b[0m\n\u001b[1;37m                                                  ^\u001b[0m\n\u001b[1;31mSyntaxError\u001b[0m\u001b[1;31m:\u001b[0m (unicode error) 'unicodeescape' codec can't decode bytes in position 2-3: truncated \\UXXXXXXXX escape\n"
     ]
    }
   ],
   "source": [
    "#2.2.2 Raw String\n",
    "\n",
    "#syntax error\n",
    "# path= \"C:\\User\\Guest\\Documents\\thisisafile.py\"\n",
    "# print(path)\n",
    "\n",
    "#syntax error\n",
    "# path= r\"C:\\User\\Guest\\Documents\\thisisafile.py\"\n",
    "# print(path)"
   ]
  },
  {
   "cell_type": "code",
   "execution_count": 29,
   "metadata": {},
   "outputs": [
    {
     "name": "stdout",
     "output_type": "stream",
     "text": [
      "t\n",
      " \n",
      "g\n",
      "string\n",
      "ti sa\n"
     ]
    }
   ],
   "source": [
    "#2.2.3 Access Character in a String\n",
    "\n",
    "s = \"this is a string\"\n",
    "\n",
    "#   0 1 2 3 4 5 6 7 8 9...\n",
    "#   t h i s   i s   a\n",
    "\n",
    "# print the first character\n",
    "print(s[0])\n",
    "\n",
    "# print the fifth character\n",
    "print(s[4])\n",
    "\n",
    "# print the last character\n",
    "print(s[-1])\n",
    "\n",
    "# print the sub string from a string\n",
    "print(s[10:16])\n",
    "\n",
    "# trying to reach the out of index\n",
    "# print(s[17])\n",
    "\n",
    "# print all char between 0-10 index every 2 char\n",
    "# the index \n",
    "print(s[0:10:2])"
   ]
  },
  {
   "cell_type": "code",
   "execution_count": 2,
   "metadata": {},
   "outputs": [
    {
     "name": "stdout",
     "output_type": "stream",
     "text": [
      "helloworld\n",
      "hellohello\n"
     ]
    }
   ],
   "source": [
    "#2.2.4 String Operations\n",
    "\n",
    "# + operator\n",
    "a = \"hello\"\n",
    "b = \"world\"\n",
    "print(a + b)\n",
    "\n",
    "# * operator\n",
    "a = \"hello\"\n",
    "b = 2\n",
    "print(a * b)"
   ]
  },
  {
   "cell_type": "code",
   "execution_count": 9,
   "metadata": {},
   "outputs": [
    {
     "name": "stdout",
     "output_type": "stream",
     "text": [
      "join this string\n",
      "join&this&string\n",
      "['split', 'this', 'string']\n",
      "['', 'plit thi', ' ', 'tring']\n"
     ]
    },
    {
     "data": {
      "text/plain": [
       "'black and blue'"
      ]
     },
     "execution_count": 9,
     "metadata": {},
     "output_type": "execute_result"
    }
   ],
   "source": [
    "#2.2.5 Common Python String methods\n",
    "\n",
    "#lowercase all char in a string\n",
    "\"UPPeRTolOweR\".lower()\n",
    "\n",
    "#uppercase all char in a string\n",
    "\"loweRToUppER\".upper()\n",
    "\n",
    "#join a list by a joining separator\n",
    "a = \" \".join([\"join\", \"this\", \"string\"])\n",
    "b = \"&\".join([\"join\", \"this\", \"string\"])\n",
    "print(a)\n",
    "print(b)\n",
    "\n",
    "#split a string by every matching separator char\n",
    "a = \"split this string\".split(\" \")\n",
    "b = \"split this string\".split(\"s\")\n",
    "print(a)\n",
    "print(b)\n",
    "\n",
    "#find the first matching character's index\n",
    "\"this is a string\".find(\"is\")\n",
    "\n",
    "#replace j with bl\n",
    "\"jack and jue\".replace(\"j\", \"bl\")"
   ]
  },
  {
   "cell_type": "code",
   "execution_count": 11,
   "metadata": {},
   "outputs": [
    {
     "data": {
      "text/plain": [
       "'My name is john doe, I am 20 years old'"
      ]
     },
     "execution_count": 11,
     "metadata": {},
     "output_type": "execute_result"
    }
   ],
   "source": [
    "#2.2.6 String Formating\n",
    "\n",
    "#formating 1\n",
    "name = \"john doe\"\n",
    "\"My name is %s, I am %d years old\"%(name, 20)\n",
    "\n",
    "#formating 2: use format(param, param,..) method to change {} tag with a value in the format param\n",
    "\"My name is {}, I am {} years old\".format(name, 20)"
   ]
  },
  {
   "cell_type": "code",
   "execution_count": 16,
   "metadata": {},
   "outputs": [
    {
     "name": "stdout",
     "output_type": "stream",
     "text": [
      "[10, 12.4, 'abc', True]\n",
      "12.4\n",
      "True\n",
      "['abc', True]\n",
      "[10, 'abc']\n",
      "[True, 'abc', 12.4, 10]\n",
      "[10, 'changed', 'abc', True]\n"
     ]
    }
   ],
   "source": [
    "#2.3 List\n",
    "\n",
    "#create a list\n",
    "l = [10, 12.4, \"abc\", True]\n",
    "print(l)\n",
    "\n",
    "#accessing the value pf list by index\n",
    "print(l[1])\n",
    "\n",
    "# able to call the minus integer\n",
    "print(l[-1])\n",
    "\n",
    "# slicing index to get the sub list\n",
    "print(l[2:4])\n",
    "\n",
    "# get the sub list every 2 value\n",
    "print(l[0:4:2])\n",
    "\n",
    "# you can reverse the list easily\n",
    "print(l[::-1])\n",
    "\n",
    "#trying to reach out of index\n",
    "# print(l[99])\n",
    "\n",
    "#access the specific value and changed the value\n",
    "l[1] = \"changed\"\n",
    "print(l)"
   ]
  },
  {
   "cell_type": "code",
   "execution_count": 18,
   "metadata": {},
   "outputs": [
    {
     "name": "stdout",
     "output_type": "stream",
     "text": [
      "[1, 'two', 3, 3, 5, 'six']\n",
      "[1, 'two', 3, 1, 'two', 3, 1, 'two', 3]\n"
     ]
    }
   ],
   "source": [
    "#2.3.1 List Operator\n",
    "\n",
    "a = [1, \"two\", 3]\n",
    "b = [3, 5, \"six\"]\n",
    "print(a + b)\n",
    "print(a * 3)"
   ]
  },
  {
   "cell_type": "code",
   "execution_count": 31,
   "metadata": {},
   "outputs": [
    {
     "name": "stdout",
     "output_type": "stream",
     "text": [
      "[1, 'two', 3, 'append']\n",
      "[1, 3, 'append']\n",
      "[1, 3, 'insert', 'append']\n",
      "append\n",
      "[1, 3, 'insert']\n",
      "['insert', 3, 1]\n",
      "[1, 1, 2, 3, 4, 5, 6, 7]\n",
      "['insert', 3, 1, 3, 5, 'six']\n"
     ]
    }
   ],
   "source": [
    "#2.3.2 List Methods\n",
    "\n",
    "myList = [4,5,2,3,6,7,1,1]\n",
    "list1 = [1, \"two\", 3]\n",
    "list2 = [3, 5, \"six\"]\n",
    "\n",
    "#appends an element to the end of the list.\n",
    "list1.append(\"append\")\n",
    "print(list1)\n",
    "\n",
    "#remove one or more matching objects\n",
    "list1.remove(\"two\")\n",
    "print(list1)\n",
    "\n",
    "#insert to the defined index\n",
    "list1.insert(2, \"insert\")\n",
    "print(list1)\n",
    "\n",
    "#remove the last item and return the removed item\n",
    "print(list1.pop())\n",
    "print(list1)\n",
    "\n",
    "#reverse the elements of list\n",
    "list1.reverse()\n",
    "print(list1)\n",
    "\n",
    "#sort the list ordered ascending by default\n",
    "myList.sort()\n",
    "print(myList)\n",
    "\n",
    "#concat two list\n",
    "list1.extend(list2)\n",
    "print(list1)\n",
    "\n",
    "\n",
    "\n"
   ]
  },
  {
   "cell_type": "code",
   "execution_count": 34,
   "metadata": {},
   "outputs": [
    {
     "name": "stdout",
     "output_type": "stream",
     "text": [
      "[[1, 2, 3, 4], [2, 5, 4, 3, 6, 2], [2, 3, 5, 2]]\n",
      "[1, 2, 3, 4]\n",
      "4\n"
     ]
    }
   ],
   "source": [
    "#2.3.3 Nested List\n",
    "\n",
    "nested = [\n",
    "    [1,2,3,4],\n",
    "    [2,5,4,3,6,2],\n",
    "    [2,3,5,2]\n",
    "]\n",
    "\n",
    "print(nested)\n",
    "print(nested[0])\n",
    "print(nested[0][3])"
   ]
  },
  {
   "cell_type": "code",
   "execution_count": 37,
   "metadata": {},
   "outputs": [
    {
     "name": "stdout",
     "output_type": "stream",
     "text": [
      "<class 'str'>\n",
      "<class 'tuple'>\n",
      "1\n",
      "(3, 6, 4)\n"
     ]
    }
   ],
   "source": [
    "#2.4 Tuple\n",
    "\n",
    "example1 = (\"a\")\n",
    "example2 = (\"a\", \"b\")\n",
    "\n",
    "print(type(example1))\n",
    "print(type(example2))\n",
    "\n",
    "example3 = (1,2,3,3,6,4, \"value\")\n",
    "print(example3[0])\n",
    "print(example3[3:6])"
   ]
  },
  {
   "cell_type": "code",
   "execution_count": 43,
   "metadata": {},
   "outputs": [
    {
     "name": "stdout",
     "output_type": "stream",
     "text": [
      "<class 'dict'>\n",
      "{'name': 'Ahmad Hariadi', 'age': 22, 'address': 'Tangerang'}\n",
      "Ahmad Hariadi\n",
      "Arthea Alitta Yona Fisca\n"
     ]
    }
   ],
   "source": [
    "#2.5 Distionaries\n",
    "\n",
    "user1 = {\n",
    "    \"name\": \"Ahmad Hariadi\",\n",
    "    \"age\": 22,\n",
    "    \"address\": \"Tangerang\"\n",
    "}\n",
    "\n",
    "print(type(user1))\n",
    "print(user1)\n",
    "\n",
    "#using call the key\n",
    "print(user1[\"name\"])\n",
    "\n",
    "#using get method\n",
    "user1.get(\"age\")\n",
    "\n",
    "#change value of dictionary\n",
    "user1[\"name\"] = \"Arthea Alitta Yona Fisca\"\n",
    "print(user1[\"name\"])"
   ]
  },
  {
   "cell_type": "code",
   "execution_count": 47,
   "metadata": {},
   "outputs": [
    {
     "name": "stdout",
     "output_type": "stream",
     "text": [
      "{'PHP', 'Java', 'Python'}\n",
      "{'PHP', 'Java', 'Python'}\n",
      "{'PHP', 'Java', 'C#', 'Python'}\n"
     ]
    }
   ],
   "source": [
    "#2.6 Set\n",
    "\n",
    "Set = {\"Python\", \"PHP\", \"Java\"}\n",
    "#Set not allowed duplicate values\n",
    "Set2 = set([\"Python\", \"PHP\", \"Java\", \"PHP\"])\n",
    "print(Set)\n",
    "print(Set2)\n",
    "\n",
    "#use add method\n",
    "Set.add(\"C#\")\n",
    "print(Set)"
   ]
  },
  {
   "cell_type": "code",
   "execution_count": 53,
   "metadata": {},
   "outputs": [
    {
     "name": "stdout",
     "output_type": "stream",
     "text": [
      "yes a is 10\n",
      "True\n",
      "True\n"
     ]
    }
   ],
   "source": [
    "#2.7 Boolean\n",
    "\n",
    "a = 10\n",
    "if (a == 10):\n",
    "    print(\"yes a is 10\")\n",
    "print(a == 10)\n",
    "\n",
    "Set = {7, 10, 12, 23, 26}\n",
    "print(a in Set)"
   ]
  }
 ],
 "metadata": {
  "kernelspec": {
   "display_name": "Python 3",
   "language": "python",
   "name": "python3"
  },
  "language_info": {
   "codemirror_mode": {
    "name": "ipython",
    "version": 3
   },
   "file_extension": ".py",
   "mimetype": "text/x-python",
   "name": "python",
   "nbconvert_exporter": "python",
   "pygments_lexer": "ipython3",
   "version": "3.11.1"
  },
  "orig_nbformat": 4,
  "vscode": {
   "interpreter": {
    "hash": "fff35add30eb61c03e49ad55ffc46f523bc3620fa4a58f7c7951e8c18007a99b"
   }
  }
 },
 "nbformat": 4,
 "nbformat_minor": 2
}
