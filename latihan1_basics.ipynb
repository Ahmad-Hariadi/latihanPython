{
 "cells": [
  {
   "cell_type": "code",
   "execution_count": 6,
   "metadata": {},
   "outputs": [
    {
     "name": "stdout",
     "output_type": "stream",
     "text": [
      "Hello World\n",
      "Hello World\n",
      "\n",
      "Hello\n",
      "World!\n",
      "\n"
     ]
    }
   ],
   "source": [
    "#1.1 Print\n",
    "\n",
    "print('Hello World') #single quotes\n",
    "print(\"Hello World\") #double quotes\n",
    "print(\"\"\"\n",
    "Hello\n",
    "World!\n",
    "\"\"\") #triple quotes"
   ]
  },
  {
   "cell_type": "code",
   "execution_count": 1,
   "metadata": {},
   "outputs": [
    {
     "name": "stdout",
     "output_type": "stream",
     "text": [
      "0.45179720996994477\n",
      "Windows-10-10.0.19042-SP0\n"
     ]
    }
   ],
   "source": [
    "#1.2 Packages and Modules\n",
    "\n",
    "#call the os package\n",
    "import os \n",
    "\n",
    "#use . to use specific funtion from os module\n",
    "#the code below is a function to get the current working directory (path)\n",
    "os.getcwd() \n",
    "\n",
    "\n",
    "#call the specific function\n",
    "from os import getcwd \n",
    "getcwd()\n",
    "\n",
    "\n",
    "#an alias package\n",
    "import numpy as np #give an alias\n",
    "import platform as pf #give an alias\n",
    "\n",
    "print(np.random.rand()) #show a random number\n",
    "print(pf.platform()) #show the platform that you used to execute python"
   ]
  },
  {
   "cell_type": "code",
   "execution_count": 17,
   "metadata": {},
   "outputs": [
    {
     "name": "stdout",
     "output_type": "stream",
     "text": [
      "10\n",
      "11\n",
      "21\n"
     ]
    }
   ],
   "source": [
    "#1.3 Variables\n",
    "\n",
    "a = 10\n",
    "print(a)\n",
    "\n",
    "a = 11\n",
    "print(a)\n",
    "\n",
    "a = a + 10\n",
    "print(a)"
   ]
  },
  {
   "cell_type": "code",
   "execution_count": 2,
   "metadata": {},
   "outputs": [
    {
     "name": "stdout",
     "output_type": "stream",
     "text": [
      "1\n",
      "82\n"
     ]
    }
   ],
   "source": [
    "#1.3.1 Naming Variables Rules\n",
    "\n",
    "hG_02 = 1\n",
    "print(hG_02)\n",
    "\n",
    "house_price = 82\n",
    "print(house_price)\n",
    "\n",
    "#syntax error\n",
    "# 1aEm_ = 10\n",
    "# print(1aEm_)"
   ]
  },
  {
   "cell_type": "code",
   "execution_count": 26,
   "metadata": {},
   "outputs": [
    {
     "name": "stdout",
     "output_type": "stream",
     "text": [
      "1 this is a string\n",
      "this is a string 1\n"
     ]
    }
   ],
   "source": [
    "#1.4 Switching Variable Value\n",
    "\n",
    "a = 1\n",
    "b = 'this is a string'\n",
    "print(a, b)\n",
    "\n",
    "a, b = b, a\n",
    "print(a, b)"
   ]
  },
  {
   "cell_type": "code",
   "execution_count": 28,
   "metadata": {},
   "outputs": [
    {
     "name": "stdout",
     "output_type": "stream",
     "text": [
      "18\n"
     ]
    }
   ],
   "source": [
    "#1.5 Execution Order in Python\n",
    "\n",
    "x = 8\n",
    "y = 10\n",
    "print(x + y)"
   ]
  },
  {
   "cell_type": "code",
   "execution_count": 11,
   "metadata": {},
   "outputs": [
    {
     "name": "stdout",
     "output_type": "stream",
     "text": [
      "10\n",
      "global values\n",
      "25\n",
      "None\n"
     ]
    }
   ],
   "source": [
    "#1.6 Global Variables and Local Variables\n",
    "\n",
    "globalVariable = 10 #global variable\n",
    "\n",
    "def somefunction():\n",
    "    localVariable = 20 + 5 #local variable, you can only use this function in\n",
    "    print(localVariable)\n",
    "\n",
    "backtoGlobal = 'global values'\n",
    "\n",
    "print(globalVariable)\n",
    "print(backtoGlobal)\n",
    "print(somefunction())"
   ]
  },
  {
   "cell_type": "code",
   "execution_count": 2,
   "metadata": {},
   "outputs": [],
   "source": [
    "#1.7 Standard I/O\n",
    "\n",
    "n = int(input('input the number: '))\n",
    "print(n + 10)"
   ]
  },
  {
   "cell_type": "code",
   "execution_count": 2,
   "metadata": {},
   "outputs": [
    {
     "name": "stdout",
     "output_type": "stream",
     "text": [
      "Help on built-in function print in module builtins:\n",
      "\n",
      "print(*args, sep=' ', end='\\n', file=None, flush=False)\n",
      "    Prints the values to a stream, or to sys.stdout by default.\n",
      "    \n",
      "    sep\n",
      "      string inserted between values, default a space.\n",
      "    end\n",
      "      string appended after the last value, default a newline.\n",
      "    file\n",
      "      a file-like object (stream); defaults to the current sys.stdout.\n",
      "    flush\n",
      "      whether to forcibly flush the stream.\n",
      "\n",
      "------\n",
      "Help on method raw_input in module ipykernel.kernelbase:\n",
      "\n",
      "raw_input(prompt='') method of ipykernel.ipkernel.IPythonKernel instance\n",
      "    Forward raw_input to frontends\n",
      "    \n",
      "    Raises\n",
      "    ------\n",
      "    StdinNotImplementedError if active frontend doesn't support stdin.\n",
      "\n"
     ]
    }
   ],
   "source": [
    "#1.8 help()\n",
    "\n",
    "help(print)\n",
    "print('------')\n",
    "help(input)"
   ]
  },
  {
   "cell_type": "code",
   "execution_count": 4,
   "metadata": {},
   "outputs": [
    {
     "name": "stdout",
     "output_type": "stream",
     "text": [
      "<class 'int'>\n",
      "<class 'float'>\n",
      "<class 'str'>\n",
      "<class 'bool'>\n"
     ]
    }
   ],
   "source": [
    "#1.8.1 type()\n",
    "\n",
    "a = 1\n",
    "b = 12.6\n",
    "c = 'this is string'\n",
    "d = True\n",
    "\n",
    "print(type(a))\n",
    "print(type(b))\n",
    "print(type(c))\n",
    "print(type(d))"
   ]
  },
  {
   "cell_type": "code",
   "execution_count": 8,
   "metadata": {},
   "outputs": [
    {
     "ename": "NameError",
     "evalue": "name 'a' is not defined",
     "output_type": "error",
     "traceback": [
      "\u001b[1;31m---------------------------------------------------------------------------\u001b[0m",
      "\u001b[1;31mNameError\u001b[0m                                 Traceback (most recent call last)",
      "Cell \u001b[1;32mIn[8], line 5\u001b[0m\n\u001b[0;32m      3\u001b[0m a \u001b[39m=\u001b[39m \u001b[39m1000\u001b[39m\n\u001b[0;32m      4\u001b[0m \u001b[39mdel\u001b[39;00m(a)\n\u001b[1;32m----> 5\u001b[0m \u001b[39mprint\u001b[39m(a)\n",
      "\u001b[1;31mNameError\u001b[0m: name 'a' is not defined"
     ]
    }
   ],
   "source": [
    "#1.8.2 del()\n",
    "\n",
    "a = 1000\n",
    "del(a) #delete variable\n",
    "print(a)"
   ]
  },
  {
   "cell_type": "code",
   "execution_count": 11,
   "metadata": {},
   "outputs": [
    {
     "data": {
      "text/plain": [
       "14"
      ]
     },
     "execution_count": 11,
     "metadata": {},
     "output_type": "execute_result"
    }
   ],
   "source": [
    "#1.8.3 len()\n",
    "\n",
    "a = 'example string'\n",
    "len(a)"
   ]
  },
  {
   "cell_type": "code",
   "execution_count": null,
   "metadata": {},
   "outputs": [],
   "source": []
  }
 ],
 "metadata": {
  "kernelspec": {
   "display_name": "Python 3.11.1 64-bit",
   "metadata": {
    "interpreter": {
     "hash": "4ebb438a5456839c9948ca25c1aa6859b99de3c529b4106f37fd78c29319dc41"
    }
   },
   "name": "python3"
  },
  "language_info": {
   "codemirror_mode": {
    "name": "ipython",
    "version": 3
   },
   "file_extension": ".py",
   "mimetype": "text/x-python",
   "name": "python",
   "nbconvert_exporter": "python",
   "pygments_lexer": "ipython3",
   "version": "3.11.1"
  },
  "orig_nbformat": 4,
  "vscode": {
   "interpreter": {
    "hash": "fff35add30eb61c03e49ad55ffc46f523bc3620fa4a58f7c7951e8c18007a99b"
   }
  }
 },
 "nbformat": 4,
 "nbformat_minor": 2
}