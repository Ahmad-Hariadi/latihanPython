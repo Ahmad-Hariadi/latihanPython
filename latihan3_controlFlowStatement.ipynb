{
 "cells": [
  {
   "cell_type": "code",
   "execution_count": 2,
   "metadata": {},
   "outputs": [
    {
     "name": "stdout",
     "output_type": "stream",
     "text": [
      "False\n",
      "True\n",
      "False\n",
      "True\n",
      "True\n",
      "False\n",
      "True\n",
      "False\n",
      "True\n"
     ]
    }
   ],
   "source": [
    "#3.1 Logical Operation\n",
    "\n",
    "print(11>11)\n",
    "print(11<15)\n",
    "print(42<23)\n",
    "print(12>=12)\n",
    "print(19<=37)\n",
    "print(True and False)\n",
    "print(True and True)\n",
    "print(False or (True and False) or False)\n",
    "print(not False)"
   ]
  }
 ],
 "metadata": {
  "kernelspec": {
   "display_name": "Python 3",
   "language": "python",
   "name": "python3"
  },
  "language_info": {
   "codemirror_mode": {
    "name": "ipython",
    "version": 3
   },
   "file_extension": ".py",
   "mimetype": "text/x-python",
   "name": "python",
   "nbconvert_exporter": "python",
   "pygments_lexer": "ipython3",
   "version": "3.11.1"
  },
  "orig_nbformat": 4,
  "vscode": {
   "interpreter": {
    "hash": "fff35add30eb61c03e49ad55ffc46f523bc3620fa4a58f7c7951e8c18007a99b"
   }
  }
 },
 "nbformat": 4,
 "nbformat_minor": 2
}
